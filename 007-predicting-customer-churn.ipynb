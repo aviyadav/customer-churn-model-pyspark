{
 "cells": [
  {
   "cell_type": "markdown",
   "id": "13451167-a788-4afb-95f2-335b46a7e692",
   "metadata": {},
   "source": [
    "Step 1: Load the Data"
   ]
  },
  {
   "cell_type": "code",
   "execution_count": 49,
   "id": "a94313eb-7891-495a-9502-8544706f300e",
   "metadata": {},
   "outputs": [],
   "source": [
    "from pyspark.sql import SparkSession\n",
    "from pyspark.sql.types import StructType, StructField, StringType, IntegerType, DoubleType"
   ]
  },
  {
   "cell_type": "code",
   "execution_count": 50,
   "id": "a2c67bb6-f623-4ec3-aab2-1855d7e87f7e",
   "metadata": {},
   "outputs": [],
   "source": [
    "spark = SparkSession.builder \\\n",
    "    .appName(\"Customer Churn Prediction\") \\\n",
    "    .getOrCreate()"
   ]
  },
  {
   "cell_type": "code",
   "execution_count": 51,
   "id": "65ab46ce-4403-4909-a485-6d9e41cf57bb",
   "metadata": {},
   "outputs": [],
   "source": [
    " schema = StructType() \\\n",
    "    .add(\"customerID\",StringType(),True) \\\n",
    "    .add(\"tenure\",IntegerType(),True) \\\n",
    "\t.add(\"PhoneService\",StringType(),True) \\\n",
    "\t.add(\"Contract\",StringType(),True) \\\n",
    "\t.add(\"PaperlessBilling\",StringType(),True) \\\n",
    "\t.add(\"PaymentMethod\",StringType(),True) \\\n",
    "\t.add(\"MonthlyCharges\",DoubleType(),True) \\\n",
    "\t.add(\"TotalCharges\",DoubleType(),True) \\\n",
    "\t.add(\"Churn\",StringType(),True) \\\n",
    "    .add(\"ChurnInt\",IntegerType(),True)"
   ]
  },
  {
   "cell_type": "markdown",
   "id": "70a47ac2-6d64-4e1d-bf7b-17d8fd76a401",
   "metadata": {},
   "source": [
    "data = spark.read.csv(\"data/customer_churn.csv\", header=True, inferSchema=True)"
   ]
  },
  {
   "cell_type": "code",
   "execution_count": 52,
   "id": "121df256-5386-486f-af8f-46a57f708bb3",
   "metadata": {},
   "outputs": [],
   "source": [
    "data = spark.read.format(\"csv\") \\\n",
    "      .option(\"header\", True) \\\n",
    "      .schema(schema) \\\n",
    "      .load(\"data/customer_churn.csv\")"
   ]
  },
  {
   "cell_type": "code",
   "execution_count": 53,
   "id": "fa38502a-4da4-4f82-ac1f-1316458195c8",
   "metadata": {},
   "outputs": [
    {
     "name": "stdout",
     "output_type": "stream",
     "text": [
      "root\n",
      " |-- customerID: string (nullable = true)\n",
      " |-- tenure: integer (nullable = true)\n",
      " |-- PhoneService: string (nullable = true)\n",
      " |-- Contract: string (nullable = true)\n",
      " |-- PaperlessBilling: string (nullable = true)\n",
      " |-- PaymentMethod: string (nullable = true)\n",
      " |-- MonthlyCharges: double (nullable = true)\n",
      " |-- TotalCharges: double (nullable = true)\n",
      " |-- Churn: string (nullable = true)\n",
      " |-- ChurnInt: integer (nullable = true)\n",
      "\n",
      "+----------+------+------------+--------------+----------------+--------------------+--------------+------------+-----+--------+\n",
      "|customerID|tenure|PhoneService|      Contract|PaperlessBilling|       PaymentMethod|MonthlyCharges|TotalCharges|Churn|ChurnInt|\n",
      "+----------+------+------------+--------------+----------------+--------------------+--------------+------------+-----+--------+\n",
      "|7590-VHVEG|     1|          No|Month-to-month|             Yes|    Electronic check|         29.85|       29.85|   No|       0|\n",
      "|5575-GNVDE|    34|         Yes|      One year|              No|        Mailed check|         56.95|      1889.5|   No|       0|\n",
      "|3668-QPYBK|     2|         Yes|Month-to-month|             Yes|        Mailed check|         53.85|      108.15|  Yes|       1|\n",
      "|7795-CFOCW|    45|          No|      One year|              No|Bank transfer (au...|          42.3|     1840.75|   No|       0|\n",
      "|9237-HQITU|     2|         Yes|Month-to-month|             Yes|    Electronic check|          70.7|      151.65|  Yes|       1|\n",
      "+----------+------+------------+--------------+----------------+--------------------+--------------+------------+-----+--------+\n",
      "only showing top 5 rows\n",
      "\n"
     ]
    }
   ],
   "source": [
    "data.printSchema()\n",
    "data.show(5)"
   ]
  },
  {
   "cell_type": "markdown",
   "id": "06aaf437-987b-4452-a570-4f9ba1313f04",
   "metadata": {},
   "source": [
    "Step 2: Data Cleaning and Preprocessing"
   ]
  },
  {
   "cell_type": "code",
   "execution_count": 54,
   "id": "b5d21f99-8a69-4e0e-92d5-23a38608b9aa",
   "metadata": {},
   "outputs": [],
   "source": [
    "data_cleaned = data.dropna()"
   ]
  },
  {
   "cell_type": "code",
   "execution_count": 55,
   "id": "30bcd5de-3b3a-4ee8-82f0-11454a589768",
   "metadata": {},
   "outputs": [],
   "source": [
    "from pyspark.ml.feature import StringIndexer"
   ]
  },
  {
   "cell_type": "code",
   "execution_count": 56,
   "id": "eb1ec5b2-747a-4f08-b2b1-f91b74ef031d",
   "metadata": {},
   "outputs": [],
   "source": [
    "indexer = StringIndexer(inputCol=\"PaymentMethod\", outputCol=\"PaymentMethodIndex\")\n",
    "data_indexed = indexer.fit(data_cleaned).transform(data_cleaned)"
   ]
  },
  {
   "cell_type": "code",
   "execution_count": 57,
   "id": "fa2581e5-ec30-4f4e-84b7-a0f5acfe9ad1",
   "metadata": {},
   "outputs": [
    {
     "name": "stdout",
     "output_type": "stream",
     "text": [
      "+----------+------+------------+--------------+----------------+--------------------+--------------+------------+-----+--------+------------------+\n",
      "|customerID|tenure|PhoneService|      Contract|PaperlessBilling|       PaymentMethod|MonthlyCharges|TotalCharges|Churn|ChurnInt|PaymentMethodIndex|\n",
      "+----------+------+------------+--------------+----------------+--------------------+--------------+------------+-----+--------+------------------+\n",
      "|7590-VHVEG|     1|          No|Month-to-month|             Yes|    Electronic check|         29.85|       29.85|   No|       0|               0.0|\n",
      "|5575-GNVDE|    34|         Yes|      One year|              No|        Mailed check|         56.95|      1889.5|   No|       0|               1.0|\n",
      "|3668-QPYBK|     2|         Yes|Month-to-month|             Yes|        Mailed check|         53.85|      108.15|  Yes|       1|               1.0|\n",
      "|7795-CFOCW|    45|          No|      One year|              No|Bank transfer (au...|          42.3|     1840.75|   No|       0|               2.0|\n",
      "|9237-HQITU|     2|         Yes|Month-to-month|             Yes|    Electronic check|          70.7|      151.65|  Yes|       1|               0.0|\n",
      "+----------+------+------------+--------------+----------------+--------------------+--------------+------------+-----+--------+------------------+\n",
      "only showing top 5 rows\n",
      "\n"
     ]
    }
   ],
   "source": [
    "data_indexed.show(5)"
   ]
  },
  {
   "cell_type": "markdown",
   "id": "439623a7-ffe4-4614-898e-44cdab1373a2",
   "metadata": {},
   "source": [
    "Step 3: Feature Engineering"
   ]
  },
  {
   "cell_type": "code",
   "execution_count": 58,
   "id": "e85953b4-89bc-496c-a6cd-77b39e8d120e",
   "metadata": {},
   "outputs": [],
   "source": [
    "from pyspark.ml.feature import VectorAssembler"
   ]
  },
  {
   "cell_type": "code",
   "execution_count": 59,
   "id": "31a49edf-2870-465b-b4dd-7c6f91ce3961",
   "metadata": {},
   "outputs": [],
   "source": [
    "assembler = VectorAssembler(\n",
    "    inputCols=[\"tenure\", \"MonthlyCharges\", \"TotalCharges\", \"PaymentMethodIndex\"],\n",
    "    outputCol=\"features\"\n",
    ")"
   ]
  },
  {
   "cell_type": "code",
   "execution_count": 60,
   "id": "ac9b0fab-b4d6-4cdd-a7ad-96377ce8c260",
   "metadata": {},
   "outputs": [],
   "source": [
    "data_prepared = assembler.transform(data_indexed)"
   ]
  },
  {
   "cell_type": "code",
   "execution_count": 61,
   "id": "93768083-c8fa-4a7f-b255-a35b57a1bea5",
   "metadata": {},
   "outputs": [
    {
     "name": "stdout",
     "output_type": "stream",
     "text": [
      "+--------------------+--------+\n",
      "|            features|ChurnInt|\n",
      "+--------------------+--------+\n",
      "|[1.0,29.85,29.85,...|       0|\n",
      "|[34.0,56.95,1889....|       0|\n",
      "|[2.0,53.85,108.15...|       1|\n",
      "|[45.0,42.3,1840.7...|       0|\n",
      "|[2.0,70.7,151.65,...|       1|\n",
      "+--------------------+--------+\n",
      "only showing top 5 rows\n",
      "\n"
     ]
    }
   ],
   "source": [
    "data_prepared.select(\"features\", \"ChurnInt\").show(5)"
   ]
  },
  {
   "cell_type": "code",
   "execution_count": 65,
   "id": "1d0dfa17-e825-488a-a4fe-dcc9b10c1a5b",
   "metadata": {},
   "outputs": [
    {
     "name": "stderr",
     "output_type": "stream",
     "text": [
      "24/10/24 16:45:22 WARN InstanceBuilder: Failed to load implementation from:dev.ludovic.netlib.blas.JNIBLAS\n",
      "24/10/24 16:45:22 WARN InstanceBuilder: Failed to load implementation from:dev.ludovic.netlib.blas.VectorBLAS\n"
     ]
    },
    {
     "name": "stdout",
     "output_type": "stream",
     "text": [
      "+--------+----------+--------------------+\n",
      "|ChurnInt|prediction|         probability|\n",
      "+--------+----------+--------------------+\n",
      "|       0|       0.0|[0.62498710862861...|\n",
      "|       0|       0.0|[0.85789932399678...|\n",
      "|       1|       0.0|[0.53329796119791...|\n",
      "|       0|       0.0|[0.95948201485725...|\n",
      "|       1|       1.0|[0.35341774319420...|\n",
      "+--------+----------+--------------------+\n",
      "only showing top 5 rows\n",
      "\n"
     ]
    }
   ],
   "source": [
    "from pyspark.ml.classification import LogisticRegression\n",
    "\n",
    "# Initialize the Logistic Regression model\n",
    "lr = LogisticRegression(featuresCol=\"features\", labelCol=\"ChurnInt\")\n",
    "\n",
    "# Train the model\n",
    "model = lr.fit(data_prepared)\n",
    "\n",
    "# Make predictions on the dataset\n",
    "predictions = model.transform(data_prepared)\n",
    "\n",
    "# Show the predictions\n",
    "predictions.select(\"ChurnInt\", \"prediction\", \"probability\").show(5)"
   ]
  },
  {
   "cell_type": "code",
   "execution_count": 66,
   "id": "89d0d542-147e-4089-8012-346534ad40f1",
   "metadata": {},
   "outputs": [
    {
     "name": "stdout",
     "output_type": "stream",
     "text": [
      "Area under ROC curve: 0.8145252878162288\n"
     ]
    }
   ],
   "source": [
    "from pyspark.ml.evaluation import BinaryClassificationEvaluator\n",
    "\n",
    "# Initialize the evaluator\n",
    "evaluator = BinaryClassificationEvaluator(labelCol=\"ChurnInt\", metricName=\"areaUnderROC\")\n",
    "\n",
    "# Evaluate the model\n",
    "roc_auc = evaluator.evaluate(predictions)\n",
    "print(f\"Area under ROC curve: {roc_auc}\")"
   ]
  },
  {
   "cell_type": "code",
   "execution_count": null,
   "id": "f54f7675-abab-4ede-924c-f34e1d0a55ea",
   "metadata": {},
   "outputs": [],
   "source": []
  }
 ],
 "metadata": {
  "kernelspec": {
   "display_name": "Python 3 (ipykernel)",
   "language": "python",
   "name": "python3"
  },
  "language_info": {
   "codemirror_mode": {
    "name": "ipython",
    "version": 3
   },
   "file_extension": ".py",
   "mimetype": "text/x-python",
   "name": "python",
   "nbconvert_exporter": "python",
   "pygments_lexer": "ipython3",
   "version": "3.12.3"
  }
 },
 "nbformat": 4,
 "nbformat_minor": 5
}
