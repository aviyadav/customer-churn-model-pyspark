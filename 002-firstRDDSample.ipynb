{
 "cells": [
  {
   "cell_type": "code",
   "execution_count": 1,
   "id": "c2bdd36d-e055-4770-be81-15f9a37ce495",
   "metadata": {},
   "outputs": [],
   "source": [
    "from pyspark import SparkContext"
   ]
  },
  {
   "cell_type": "code",
   "execution_count": 2,
   "id": "15e2fb08-1667-4a42-8a41-3b5d31f2ae2b",
   "metadata": {},
   "outputs": [
    {
     "name": "stderr",
     "output_type": "stream",
     "text": [
      "24/10/23 18:23:11 WARN Utils: Your hostname, APTINWLPF3VZG55 resolves to a loopback address: 127.0.1.1; using 10.255.255.254 instead (on interface lo)\n",
      "24/10/23 18:23:11 WARN Utils: Set SPARK_LOCAL_IP if you need to bind to another address\n",
      "Setting default log level to \"WARN\".\n",
      "To adjust logging level use sc.setLogLevel(newLevel). For SparkR, use setLogLevel(newLevel).\n",
      "24/10/23 18:23:11 WARN NativeCodeLoader: Unable to load native-hadoop library for your platform... using builtin-java classes where applicable\n"
     ]
    }
   ],
   "source": [
    "sc = SparkContext(\"local\", \"RDD Example\")"
   ]
  },
  {
   "cell_type": "code",
   "execution_count": 3,
   "id": "dbfeef61-3c36-42ac-a715-eb01abd99229",
   "metadata": {},
   "outputs": [],
   "source": [
    "numbers_rdd = sc.parallelize([1, 2, 3, 4, 5])"
   ]
  },
  {
   "cell_type": "code",
   "execution_count": 4,
   "id": "2656f2bb-02b3-484e-86fa-d117191eb903",
   "metadata": {},
   "outputs": [
    {
     "name": "stdout",
     "output_type": "stream",
     "text": [
      "[1, 2, 3, 4, 5]\n"
     ]
    }
   ],
   "source": [
    "collected_numbers = numbers_rdd.collect()\n",
    "print(collected_numbers)"
   ]
  },
  {
   "cell_type": "code",
   "execution_count": 5,
   "id": "cd77560c-10f5-48d8-8fec-12314668fac3",
   "metadata": {},
   "outputs": [
    {
     "name": "stdout",
     "output_type": "stream",
     "text": [
      "[2, 4, 6, 8, 10]\n"
     ]
    }
   ],
   "source": [
    "doubled_rdd = numbers_rdd.map(lambda x: x * 2)\n",
    "print(doubled_rdd.collect())"
   ]
  },
  {
   "cell_type": "code",
   "execution_count": 6,
   "id": "aa704af0-27df-4bc7-a117-b5962d515434",
   "metadata": {},
   "outputs": [],
   "source": [
    "sc.stop()"
   ]
  },
  {
   "cell_type": "code",
   "execution_count": null,
   "id": "7d3ae0d9-44ab-40a0-9a9b-025ada8ca560",
   "metadata": {},
   "outputs": [],
   "source": []
  }
 ],
 "metadata": {
  "kernelspec": {
   "display_name": "Python 3 (ipykernel)",
   "language": "python",
   "name": "python3"
  },
  "language_info": {
   "codemirror_mode": {
    "name": "ipython",
    "version": 3
   },
   "file_extension": ".py",
   "mimetype": "text/x-python",
   "name": "python",
   "nbconvert_exporter": "python",
   "pygments_lexer": "ipython3",
   "version": "3.12.3"
  }
 },
 "nbformat": 4,
 "nbformat_minor": 5
}
