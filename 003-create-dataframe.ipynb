{
 "cells": [
  {
   "cell_type": "code",
   "execution_count": 17,
   "id": "c0b1dc90-351d-4efd-8579-c25a15e8221d",
   "metadata": {},
   "outputs": [],
   "source": [
    "from pyspark.sql import SparkSession"
   ]
  },
  {
   "cell_type": "code",
   "execution_count": 18,
   "id": "9a811f2f-c433-48ca-b51c-e0ac69f38625",
   "metadata": {},
   "outputs": [],
   "source": [
    "spark = SparkSession.builder \\\n",
    "    .appName(\"DataFrame Example\") \\\n",
    "    .getOrCreate()"
   ]
  },
  {
   "cell_type": "code",
   "execution_count": 19,
   "id": "09524692-080a-46ed-a505-db1768fb4ea1",
   "metadata": {},
   "outputs": [],
   "source": [
    "data = [(\"Alice\", 25), (\"Bob\", 30), (\"Charlie\", 35)]"
   ]
  },
  {
   "cell_type": "code",
   "execution_count": 20,
   "id": "f3c17571-f7b0-4211-980b-07aea5554288",
   "metadata": {},
   "outputs": [],
   "source": [
    "columns = [\"Name\", \"Age\"]"
   ]
  },
  {
   "cell_type": "code",
   "execution_count": 21,
   "id": "f0bfa681-ef3d-4e07-9854-0576bf799fc7",
   "metadata": {},
   "outputs": [],
   "source": [
    "df = spark.createDataFrame(data, columns)"
   ]
  },
  {
   "cell_type": "code",
   "execution_count": 22,
   "id": "2eb29ee4-2856-4b68-a780-b68c160e6775",
   "metadata": {},
   "outputs": [
    {
     "name": "stdout",
     "output_type": "stream",
     "text": [
      "+-------+---+\n",
      "|   Name|Age|\n",
      "+-------+---+\n",
      "|  Alice| 25|\n",
      "|    Bob| 30|\n",
      "|Charlie| 35|\n",
      "+-------+---+\n",
      "\n"
     ]
    }
   ],
   "source": [
    "df.show()"
   ]
  },
  {
   "cell_type": "code",
   "execution_count": 23,
   "id": "a7596d0c-4d09-48eb-ba9b-e3d9e06c8396",
   "metadata": {},
   "outputs": [
    {
     "name": "stdout",
     "output_type": "stream",
     "text": [
      "+-------+\n",
      "|   Name|\n",
      "+-------+\n",
      "|  Alice|\n",
      "|    Bob|\n",
      "|Charlie|\n",
      "+-------+\n",
      "\n"
     ]
    }
   ],
   "source": [
    "df.select(\"Name\").show()"
   ]
  },
  {
   "cell_type": "code",
   "execution_count": 24,
   "id": "aa2e3d0a-e1a2-4c3f-aa63-82279d5192c9",
   "metadata": {},
   "outputs": [
    {
     "name": "stdout",
     "output_type": "stream",
     "text": [
      "+-------+---+\n",
      "|   Name|Age|\n",
      "+-------+---+\n",
      "|  Alice| 25|\n",
      "|    Bob| 30|\n",
      "|Charlie| 35|\n",
      "+-------+---+\n",
      "\n"
     ]
    },
    {
     "name": "stderr",
     "output_type": "stream",
     "text": [
      "24/10/23 18:28:40 WARN GarbageCollectionMetrics: To enable non-built-in garbage collector(s) List(G1 Concurrent GC), users should configure it(them) to spark.eventLog.gcMetrics.youngGenerationGarbageCollectors or spark.eventLog.gcMetrics.oldGenerationGarbageCollectors\n"
     ]
    }
   ],
   "source": [
    "df.select(\"Name\", \"Age\").show()"
   ]
  },
  {
   "cell_type": "markdown",
   "id": "fbda18a2-6804-4c09-aad0-d39ec293e884",
   "metadata": {},
   "source": [
    "Filtering Rows"
   ]
  },
  {
   "cell_type": "code",
   "execution_count": 25,
   "id": "8b3bece4-1eee-4b50-a9fb-1c8aeb388fc6",
   "metadata": {},
   "outputs": [
    {
     "name": "stdout",
     "output_type": "stream",
     "text": [
      "+-------+---+\n",
      "|   Name|Age|\n",
      "+-------+---+\n",
      "|Charlie| 35|\n",
      "+-------+---+\n",
      "\n"
     ]
    }
   ],
   "source": [
    "df.filter(df.Age > 30).show()"
   ]
  },
  {
   "cell_type": "markdown",
   "id": "4bcdd04c-f99a-4ae7-8183-34ffcc031711",
   "metadata": {},
   "source": [
    "Grouping and Aggregating Data"
   ]
  },
  {
   "cell_type": "code",
   "execution_count": 26,
   "id": "4d131b3e-4b18-4987-b2ca-d79c4e8e0250",
   "metadata": {},
   "outputs": [
    {
     "name": "stdout",
     "output_type": "stream",
     "text": [
      "+---+-----+\n",
      "|Age|count|\n",
      "+---+-----+\n",
      "| 25|    1|\n",
      "| 30|    1|\n",
      "| 35|    1|\n",
      "+---+-----+\n",
      "\n"
     ]
    }
   ],
   "source": [
    "df.groupBy(\"Age\").count().show()"
   ]
  },
  {
   "cell_type": "markdown",
   "id": "2439c6ca-f0c3-423d-891c-ac045a405e89",
   "metadata": {},
   "source": [
    "Sorting Data"
   ]
  },
  {
   "cell_type": "code",
   "execution_count": 27,
   "id": "4093b5f4-b855-4253-846b-d160e51d5403",
   "metadata": {},
   "outputs": [
    {
     "name": "stdout",
     "output_type": "stream",
     "text": [
      "+-------+---+\n",
      "|   Name|Age|\n",
      "+-------+---+\n",
      "|  Alice| 25|\n",
      "|    Bob| 30|\n",
      "|Charlie| 35|\n",
      "+-------+---+\n",
      "\n"
     ]
    }
   ],
   "source": [
    "df.orderBy(\"Age\").show()"
   ]
  },
  {
   "cell_type": "code",
   "execution_count": 28,
   "id": "c7a8311a-0536-4588-a713-2ae7b885fef3",
   "metadata": {},
   "outputs": [
    {
     "name": "stdout",
     "output_type": "stream",
     "text": [
      "+-------+---+\n",
      "|   Name|Age|\n",
      "+-------+---+\n",
      "|Charlie| 35|\n",
      "|    Bob| 30|\n",
      "|  Alice| 25|\n",
      "+-------+---+\n",
      "\n"
     ]
    }
   ],
   "source": [
    "df.orderBy(df.Age.desc()).show()"
   ]
  },
  {
   "cell_type": "code",
   "execution_count": 29,
   "id": "1ddddce5-b21d-4a39-8d82-22a079bbcb59",
   "metadata": {},
   "outputs": [],
   "source": [
    "spark.stop()"
   ]
  },
  {
   "cell_type": "code",
   "execution_count": null,
   "id": "7b3cbb1e-7e6d-439b-b42e-e0202e9ddec3",
   "metadata": {},
   "outputs": [],
   "source": []
  }
 ],
 "metadata": {
  "kernelspec": {
   "display_name": "Python 3 (ipykernel)",
   "language": "python",
   "name": "python3"
  },
  "language_info": {
   "codemirror_mode": {
    "name": "ipython",
    "version": 3
   },
   "file_extension": ".py",
   "mimetype": "text/x-python",
   "name": "python",
   "nbconvert_exporter": "python",
   "pygments_lexer": "ipython3",
   "version": "3.12.3"
  }
 },
 "nbformat": 4,
 "nbformat_minor": 5
}
