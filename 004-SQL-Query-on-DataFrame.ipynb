{
 "cells": [
  {
   "cell_type": "code",
   "execution_count": 28,
   "id": "690a6e8d-f9c5-46b2-8729-e7d980686524",
   "metadata": {},
   "outputs": [],
   "source": [
    "from pyspark.sql import SparkSession"
   ]
  },
  {
   "cell_type": "code",
   "execution_count": 29,
   "id": "30a9bd50-e8a5-4e21-b7a5-c83b8094f606",
   "metadata": {},
   "outputs": [],
   "source": [
    "spark = SparkSession.builder \\\n",
    "    .appName(\"Spark SQL Example\") \\\n",
    "    .getOrCreate()"
   ]
  },
  {
   "cell_type": "code",
   "execution_count": 30,
   "id": "221362cd-d0ae-4872-85e0-8a184d7692cc",
   "metadata": {},
   "outputs": [],
   "source": [
    "data = [(\"Alice\", 25), (\"Bob\", 30), (\"Charlie\", 35)]"
   ]
  },
  {
   "cell_type": "code",
   "execution_count": 31,
   "id": "05a47df9-292c-4f06-b35f-8b686fbd4423",
   "metadata": {},
   "outputs": [],
   "source": [
    "df = spark.createDataFrame(data, [\"Name\", \"Age\"])"
   ]
  },
  {
   "cell_type": "code",
   "execution_count": 32,
   "id": "868e4dea-2847-411b-a9c8-00077dd73ed2",
   "metadata": {},
   "outputs": [],
   "source": [
    "df.createOrReplaceTempView(\"people\")"
   ]
  },
  {
   "cell_type": "code",
   "execution_count": 33,
   "id": "9c32f415-6b05-4e77-8a6c-65f60685e7ea",
   "metadata": {},
   "outputs": [],
   "source": [
    "result = spark.sql(\"SELECT Name, Age FROM people WHERE Age > 30\")"
   ]
  },
  {
   "cell_type": "code",
   "execution_count": 34,
   "id": "49b120e4-d857-4f2b-9879-ba226fef4225",
   "metadata": {},
   "outputs": [
    {
     "name": "stdout",
     "output_type": "stream",
     "text": [
      "+-------+---+\n",
      "|   Name|Age|\n",
      "+-------+---+\n",
      "|Charlie| 35|\n",
      "+-------+---+\n",
      "\n"
     ]
    }
   ],
   "source": [
    "result.show()"
   ]
  },
  {
   "cell_type": "code",
   "execution_count": 35,
   "id": "a5022c2a-e85e-4d26-a5ce-007b7a304078",
   "metadata": {},
   "outputs": [
    {
     "name": "stdout",
     "output_type": "stream",
     "text": [
      "+-------+\n",
      "|   Name|\n",
      "+-------+\n",
      "|  Alice|\n",
      "|    Bob|\n",
      "|Charlie|\n",
      "+-------+\n",
      "\n"
     ]
    }
   ],
   "source": [
    "result = spark.sql(\"SELECT Name FROM people\")\n",
    "result.show()"
   ]
  },
  {
   "cell_type": "code",
   "execution_count": 36,
   "id": "cbddcfeb-c6e1-4efa-834d-bee1784c2905",
   "metadata": {},
   "outputs": [
    {
     "name": "stdout",
     "output_type": "stream",
     "text": [
      "+-----+---+\n",
      "| Name|Age|\n",
      "+-----+---+\n",
      "|Alice| 25|\n",
      "+-----+---+\n",
      "\n"
     ]
    }
   ],
   "source": [
    "result = spark.sql(\"SELECT * FROM people WHERE Age < 30\")\n",
    "result.show()"
   ]
  },
  {
   "cell_type": "code",
   "execution_count": 37,
   "id": "d03e8f8e-1a50-4243-a984-52586b253fc3",
   "metadata": {},
   "outputs": [
    {
     "name": "stdout",
     "output_type": "stream",
     "text": [
      "+---+-----+\n",
      "|Age|count|\n",
      "+---+-----+\n",
      "| 25|    1|\n",
      "| 30|    1|\n",
      "| 35|    1|\n",
      "+---+-----+\n",
      "\n"
     ]
    }
   ],
   "source": [
    "result = spark.sql(\"SELECT Age, COUNT(*) as count FROM people GROUP BY Age\")\n",
    "result.show()"
   ]
  },
  {
   "cell_type": "code",
   "execution_count": 38,
   "id": "5a1a40de-0d4d-4d75-a602-f051583bfdc9",
   "metadata": {},
   "outputs": [],
   "source": [
    "data_jobs = [(\"Alice\", \"Engineer\"), (\"Bob\", \"Doctor\")]\n",
    "df_jobs = spark.createDataFrame(data_jobs, [\"Name\", \"Job\"])"
   ]
  },
  {
   "cell_type": "code",
   "execution_count": 39,
   "id": "f77d688d-0b7c-48b0-bbc5-9ac96174027b",
   "metadata": {},
   "outputs": [],
   "source": [
    "df_jobs.createOrReplaceTempView(\"jobs\")"
   ]
  },
  {
   "cell_type": "code",
   "execution_count": 40,
   "id": "4caf9920-dd85-4a85-96b6-f4de949aa985",
   "metadata": {},
   "outputs": [],
   "source": [
    "result = spark.sql(\"\"\"\n",
    "    SELECT p.Name, p.Age, j.Job \n",
    "    FROM people p\n",
    "    JOIN jobs j ON p.Name = j.Name\n",
    "\"\"\")"
   ]
  },
  {
   "cell_type": "code",
   "execution_count": 41,
   "id": "140c6000-a9b1-4a0e-9e67-9ed09612517b",
   "metadata": {},
   "outputs": [
    {
     "name": "stdout",
     "output_type": "stream",
     "text": [
      "+-----+---+--------+\n",
      "| Name|Age|     Job|\n",
      "+-----+---+--------+\n",
      "|Alice| 25|Engineer|\n",
      "|  Bob| 30|  Doctor|\n",
      "+-----+---+--------+\n",
      "\n"
     ]
    }
   ],
   "source": [
    "result.show()"
   ]
  },
  {
   "cell_type": "code",
   "execution_count": 42,
   "id": "122f361f-8816-478a-8cdd-7e0ade8e91ba",
   "metadata": {},
   "outputs": [
    {
     "name": "stdout",
     "output_type": "stream",
     "text": [
      "+-------+---+\n",
      "|   Name|Age|\n",
      "+-------+---+\n",
      "|  Alice| 25|\n",
      "|    Bob| 30|\n",
      "|Charlie| 35|\n",
      "+-------+---+\n",
      "\n"
     ]
    }
   ],
   "source": [
    "df_cleaned = df.dropna()\n",
    "df_cleaned.show()"
   ]
  },
  {
   "cell_type": "code",
   "execution_count": 43,
   "id": "676ee2ee-4b97-428b-a9e7-d58b9c8f0963",
   "metadata": {},
   "outputs": [
    {
     "name": "stdout",
     "output_type": "stream",
     "text": [
      "+-------+---+\n",
      "|   Name|Age|\n",
      "+-------+---+\n",
      "|  Alice| 25|\n",
      "|    Bob| 30|\n",
      "|Charlie| 35|\n",
      "+-------+---+\n",
      "\n"
     ]
    }
   ],
   "source": [
    "df_cleaned = df.dropna(subset=[\"Age\"])\n",
    "df_cleaned.show()"
   ]
  },
  {
   "cell_type": "code",
   "execution_count": 44,
   "id": "d62c35e0-f403-4acb-82f1-445883729944",
   "metadata": {},
   "outputs": [
    {
     "name": "stdout",
     "output_type": "stream",
     "text": [
      "+-------+---+\n",
      "|   Name|Age|\n",
      "+-------+---+\n",
      "|  Alice| 25|\n",
      "|    Bob| 30|\n",
      "|Charlie| 35|\n",
      "+-------+---+\n",
      "\n"
     ]
    }
   ],
   "source": [
    "df_filled = df.fillna(0)\n",
    "df_filled.show()"
   ]
  },
  {
   "cell_type": "code",
   "execution_count": 45,
   "id": "e4e85f0e-b72c-4e8a-960a-97d9e0d6c9c5",
   "metadata": {},
   "outputs": [
    {
     "name": "stdout",
     "output_type": "stream",
     "text": [
      "+-------+---+\n",
      "|   Name|Age|\n",
      "+-------+---+\n",
      "|  Alice| 25|\n",
      "|    Bob| 30|\n",
      "|Charlie| 35|\n",
      "+-------+---+\n",
      "\n"
     ]
    }
   ],
   "source": [
    "df_filled = df.fillna({\"Age\": 0, \"Name\": \"Unknown\"})\n",
    "df_filled.show()"
   ]
  },
  {
   "cell_type": "markdown",
   "id": "db8fac25-81aa-42ac-a18a-340b77b2af28",
   "metadata": {},
   "source": [
    "Window Functions in PySpark"
   ]
  },
  {
   "cell_type": "code",
   "execution_count": 46,
   "id": "77104aa8-3a88-4297-b6a3-59bde022f767",
   "metadata": {},
   "outputs": [
    {
     "name": "stderr",
     "output_type": "stream",
     "text": [
      "24/10/23 20:28:58 WARN WindowExec: No Partition Defined for Window operation! Moving all data to a single partition, this can cause serious performance degradation.\n",
      "24/10/23 20:28:58 WARN WindowExec: No Partition Defined for Window operation! Moving all data to a single partition, this can cause serious performance degradation.\n",
      "24/10/23 20:28:58 WARN WindowExec: No Partition Defined for Window operation! Moving all data to a single partition, this can cause serious performance degradation.\n"
     ]
    },
    {
     "name": "stdout",
     "output_type": "stream",
     "text": [
      "+-------+---+----+\n",
      "|   Name|Age|rank|\n",
      "+-------+---+----+\n",
      "|  Alice| 25|   1|\n",
      "|    Bob| 30|   2|\n",
      "|Charlie| 35|   3|\n",
      "+-------+---+----+\n",
      "\n"
     ]
    }
   ],
   "source": [
    "from pyspark.sql.window import Window\n",
    "from pyspark.sql.functions import rank\n",
    "\n",
    "# Define a window specification\n",
    "window_spec = Window.orderBy(\"Age\")\n",
    "\n",
    "# Add a rank column\n",
    "df_with_rank = df.withColumn(\"rank\", rank().over(window_spec))\n",
    "df_with_rank.show()"
   ]
  },
  {
   "cell_type": "markdown",
   "id": "79e18a25-beca-466e-b2a6-b60689005b2d",
   "metadata": {},
   "source": [
    "Caching DataFrames"
   ]
  },
  {
   "cell_type": "code",
   "execution_count": 47,
   "id": "dc1d92e1-66f7-4180-b7bd-71ba29202dc3",
   "metadata": {},
   "outputs": [
    {
     "name": "stdout",
     "output_type": "stream",
     "text": [
      "+-------+---+\n",
      "|   Name|Age|\n",
      "+-------+---+\n",
      "|  Alice| 25|\n",
      "|    Bob| 30|\n",
      "|Charlie| 35|\n",
      "+-------+---+\n",
      "\n"
     ]
    }
   ],
   "source": [
    "df.cache()\n",
    "\n",
    "# Perform operations on the cached DataFrame\n",
    "df.show()"
   ]
  },
  {
   "cell_type": "markdown",
   "id": "8c053371-06c5-4de9-b4f5-00bc72899152",
   "metadata": {},
   "source": [
    "Partitioning"
   ]
  },
  {
   "cell_type": "code",
   "execution_count": 48,
   "id": "e0e2f6c2-959a-4f76-86bb-c3ddcf9c39fb",
   "metadata": {},
   "outputs": [
    {
     "name": "stdout",
     "output_type": "stream",
     "text": [
      "+-------+---+\n",
      "|   Name|Age|\n",
      "+-------+---+\n",
      "|  Alice| 25|\n",
      "|    Bob| 30|\n",
      "|Charlie| 35|\n",
      "+-------+---+\n",
      "\n"
     ]
    }
   ],
   "source": [
    "# Repartition the DataFrame\n",
    "df_repartitioned = df.repartition(4)\n",
    "df_repartitioned.show()"
   ]
  },
  {
   "cell_type": "code",
   "execution_count": 49,
   "id": "428d23df-5aa8-4d1f-98de-ece22ed08288",
   "metadata": {},
   "outputs": [],
   "source": [
    "spark.stop()"
   ]
  },
  {
   "cell_type": "code",
   "execution_count": null,
   "id": "fd0f7272-a90d-45c6-b985-5c6bc7243f89",
   "metadata": {},
   "outputs": [],
   "source": []
  }
 ],
 "metadata": {
  "kernelspec": {
   "display_name": "Python 3 (ipykernel)",
   "language": "python",
   "name": "python3"
  },
  "language_info": {
   "codemirror_mode": {
    "name": "ipython",
    "version": 3
   },
   "file_extension": ".py",
   "mimetype": "text/x-python",
   "name": "python",
   "nbconvert_exporter": "python",
   "pygments_lexer": "ipython3",
   "version": "3.12.3"
  }
 },
 "nbformat": 4,
 "nbformat_minor": 5
}
